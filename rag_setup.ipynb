{
 "cells": [
  {
   "cell_type": "markdown",
   "id": "28352ccf",
   "metadata": {},
   "source": [
    "# **Retrieval-Augmented Generation (RAG) Setup**"
   ]
  },
  {
   "cell_type": "markdown",
   "id": "dcbb0cf7",
   "metadata": {},
   "source": [
    "**Reference**: [LLM and RAG in Practice with Elastic Cloud and Amazon Bedrock](https://aws.amazon.com/marketplace/build-learn/data-analytics/llm-rag-in-practice-conversational-interface-for-searchable-data?trk=8e0ef3ed-2d1a-4862-9a7b-5ed8cad843d6&sc_channel=psm&linkId=787506315)"
   ]
  },
  {
   "cell_type": "code",
   "execution_count": 8,
   "id": "daefef87",
   "metadata": {},
   "outputs": [],
   "source": [
    "# Activate virtual Python environment\n",
    "#! source ../venv/bin/activate"
   ]
  },
  {
   "cell_type": "code",
   "execution_count": 2,
   "id": "64d452bd",
   "metadata": {},
   "outputs": [],
   "source": [
    "#! uv pip install -r requirements.txt"
   ]
  },
  {
   "cell_type": "markdown",
   "id": "a0e369f6",
   "metadata": {},
   "source": [
    "### Environment setup"
   ]
  },
  {
   "cell_type": "code",
   "execution_count": 9,
   "id": "b269fc52",
   "metadata": {},
   "outputs": [],
   "source": [
    "import os\n",
    "from dotenv import load_dotenv\n",
    "\n",
    "from langchain_elasticsearch import ElasticsearchStore\n",
    "from langchain_aws import BedrockEmbeddings\n",
    "from langchain_aws import BedrockLLM\n",
    "from langchain.chains import RetrievalQA\n",
    "from urllib.request import urlopen\n",
    "\n",
    "import boto3\n",
    "import json\n",
    "\n",
    "\n",
    "# Load all environment variables from .env file\n",
    "load_dotenv()\n",
    "\n",
    "ELASTIC_CLOUD_ENDPOINT = os.getenv('ELASTIC_CLOUD_ENDPOINT')\n",
    "ELASTIC_API_KEY = os.getenv('ELASTIC_API_KEY')\n",
    "AWS_ACCESS_KEY_ID = os.getenv('AWS_ACCESS_KEY')\n",
    "AWS_SECRET_ACCESS_KEY = os.getenv('AWS_SECRET_KEY')\n",
    "AWS_REGION = os.getenv('AWS_REGION')\n",
    "ELASTIC_CLOUD_ID = os.getenv('ELASTIC_CLOUD_ID')\n",
    "bedrock_client = boto3.client(\n",
    "    service_name = \"bedrock-runtime\",\n",
    "    region_name = AWS_REGION\n",
    ")\n",
    "\n",
    "# NOTE: Use an embedding-capable model id here.\n",
    "# If you use a text-generation model (e.g. amazon.titan-text-express-v1),\n",
    "# the embedding call may return None which causes errors downstream\n",
    "# (TypeError: object of type 'NoneType' has no len()).\n",
    "bedrock_embedding = BedrockEmbeddings(\n",
    "    client=bedrock_client,\n",
    "    model_id=\"amazon.titan-embed-text-v2:0\",  # embedding model\n",
    ")"
   ]
  },
  {
   "cell_type": "markdown",
   "id": "245f5bf0",
   "metadata": {},
   "source": [
    "### Create Elasticsearchstore"
   ]
  },
  {
   "cell_type": "code",
   "execution_count": 10,
   "id": "6d97413b",
   "metadata": {},
   "outputs": [],
   "source": [
    "\n",
    "vector_store = ElasticsearchStore(\n",
    "    es_url=ELASTIC_CLOUD_ENDPOINT,\n",
    "    es_api_key=ELASTIC_API_KEY,\n",
    "    index_name=\"marketplace_index\",\n",
    "    embedding=bedrock_embedding,\n",
    ")"
   ]
  },
  {
   "cell_type": "markdown",
   "id": "bbe86f13",
   "metadata": {},
   "source": [
    "### Load documents into elasticsearch vectorstore"
   ]
  },
  {
   "cell_type": "code",
   "execution_count": 11,
   "id": "e0499b94",
   "metadata": {},
   "outputs": [],
   "source": [
    "import tiktoken\n",
    "url = \"https://raw.githubusercontent.com/elastic/elasticsearch-labs/main/example-apps/chatbot-rag-app/data/data.json\"\n",
    "\n",
    "response = urlopen(url)\n",
    "\n",
    "workplace_docs = json.loads(response.read())\n",
    "\n",
    "from langchain.text_splitter import RecursiveCharacterTextSplitter\n",
    "\n",
    "metadata = []\n",
    "content = []\n",
    "\n",
    "for doc in workplace_docs:\n",
    "    content.append(doc[\"content\"])\n",
    "    metadata.append(\n",
    "        {\n",
    "            \"name\": doc[\"name\"],\n",
    "            \"summary\": doc[\"summary\"],\n",
    "            \"rolePermissions\": doc[\"rolePermissions\"],\n",
    "        }\n",
    "    )"
   ]
  },
  {
   "cell_type": "code",
   "execution_count": 6,
   "id": "14aad86d",
   "metadata": {},
   "outputs": [],
   "source": [
    "text_splitter = RecursiveCharacterTextSplitter.from_tiktoken_encoder(\n",
    "    chunk_size=512, chunk_overlap=256\n",
    ")\n",
    "docs = text_splitter.create_documents(content, metadatas=metadata)\n",
    "#vector_store.add_documents(docs)"
   ]
  },
  {
   "cell_type": "code",
   "execution_count": 12,
   "id": "31fc84f1",
   "metadata": {},
   "outputs": [],
   "source": [
    "documents = vector_store.from_documents(\n",
    "    docs,\n",
    "    es_url=ELASTIC_CLOUD_ENDPOINT,\n",
    "    es_api_key=ELASTIC_API_KEY,\n",
    "    index_name=\"marketplace_index\",\n",
    "    embedding=bedrock_embedding,\n",
    ")"
   ]
  },
  {
   "cell_type": "markdown",
   "id": "f2014999",
   "metadata": {},
   "source": [
    "### Query vectorstore using BedrockLLM"
   ]
  },
  {
   "cell_type": "code",
   "execution_count": null,
   "id": "71f944d4",
   "metadata": {},
   "outputs": [],
   "source": [
    "llm = BedrockLLM(\n",
    "    client=bedrock_client,\n",
    "    model=\"amazon.titan-text-express-v1\",  # text-generation model\n",
    ")\n",
    "\n",
    "retriever = vector_store.as_retriever()\n",
    "qa = RetrievalQA.from_llm(\n",
    "    llm=llm,\n",
    "    retriever=retriever,\n",
    "    return_source_documents=True,\n",
    ")\n"
   ]
  },
  {
   "cell_type": "code",
   "execution_count": 15,
   "id": "f7c02203",
   "metadata": {},
   "outputs": [
    {
     "name": "stdout",
     "output_type": "stream",
     "text": [
      "\n",
      "The purpose of this full-time work-from-home policy is to provide guidelines and support for employees to conduct their work remotely, ensuring the continuity and productivity of business operations during the COVID-19 pandemic and beyond.\n",
      "\n"
     ]
    }
   ],
   "source": [
    "question = \"What is the remote work policy?\"\n",
    "ans = qa({\"query\": question})\n",
    "print(ans[\"result\"] + \"\\n\")"
   ]
  }
 ],
 "metadata": {
  "kernelspec": {
   "display_name": "venv",
   "language": "python",
   "name": "python3"
  },
  "language_info": {
   "codemirror_mode": {
    "name": "ipython",
    "version": 3
   },
   "file_extension": ".py",
   "mimetype": "text/x-python",
   "name": "python",
   "nbconvert_exporter": "python",
   "pygments_lexer": "ipython3",
   "version": "3.12.11"
  }
 },
 "nbformat": 4,
 "nbformat_minor": 5
}
