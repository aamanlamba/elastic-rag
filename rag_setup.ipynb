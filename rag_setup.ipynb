{
 "cells": [
  {
   "cell_type": "markdown",
   "id": "28352ccf",
   "metadata": {},
   "source": [
    "Retrieval-Augmented Generation (RAG) Setup"
   ]
  },
  {
   "cell_type": "code",
   "execution_count": 1,
   "id": "daefef87",
   "metadata": {},
   "outputs": [],
   "source": [
    "# Activate virtual Python environment\n",
    "#! source ../venv/bin/activate"
   ]
  },
  {
   "cell_type": "code",
   "execution_count": 2,
   "id": "64d452bd",
   "metadata": {},
   "outputs": [],
   "source": [
    "#! uv pip install -r requirements.txt"
   ]
  },
  {
   "cell_type": "markdown",
   "id": "a0e369f6",
   "metadata": {},
   "source": [
    "Environment setup"
   ]
  },
  {
   "cell_type": "code",
   "execution_count": null,
   "id": "b269fc52",
   "metadata": {},
   "outputs": [],
   "source": [
    "import os\n",
    "from dotenv import load_dotenv\n",
    "\n",
    "from langchain_elasticsearch import ElasticsearchStore\n",
    "from langchain_aws import BedrockEmbeddings\n",
    "from langchain_aws import BedrockLLM\n",
    "from langchain.chains import RetrievalQA\n",
    "from urllib.request import urlopen\n",
    "\n",
    "import boto3\n",
    "import json\n",
    "\n",
    "\n",
    "# Load all environment variables from .env file\n",
    "load_dotenv()\n",
    "\n",
    "ELASTIC_CLOUD_ENDPOINT = os.getenv('ELASTIC_CLOUD_ENDPOINT')\n",
    "ELASTIC_API_KEY = os.getenv('ELASTIC_API_KEY')\n",
    "AWS_ACCESS_KEY_ID = os.getenv('AWS_ACCESS_KEY')\n",
    "AWS_SECRET_ACCESS_KEY = os.getenv('AWS_SECRET_KEY')\n",
    "AWS_REGION = os.getenv('AWS_REGION')\n",
    "ELASTIC_CLOUD_ID = os.getenv('ELASTIC_CLOUD_ID')\n",
    "bedrock_client = boto3.client(\n",
    "    service_name = \"bedrock-runtime\",\n",
    "    region_name = AWS_REGION\n",
    ")\n",
    "\n",
    "# NOTE: Use an embedding-capable model id here.\n",
    "# If you use a text-generation model (e.g. amazon.titan-text-express-v1),\n",
    "# the embedding call may return None which causes errors downstream\n",
    "# (TypeError: object of type 'NoneType' has no len()).\n",
    "bedrock_embedding = BedrockEmbeddings(\n",
    "    client=bedrock_client,\n",
    "    model_id=\"amazon.titan-embed-text-v2:0\",  # embedding model\n",
    ")"
   ]
  },
  {
   "cell_type": "markdown",
   "id": "245f5bf0",
   "metadata": {},
   "source": [
    "Create Elasticsearchstore"
   ]
  },
  {
   "cell_type": "code",
   "execution_count": 4,
   "id": "6d97413b",
   "metadata": {},
   "outputs": [],
   "source": [
    "\n",
    "vector_store = ElasticsearchStore(\n",
    "    es_url=ELASTIC_CLOUD_ENDPOINT,\n",
    "    es_api_key=ELASTIC_API_KEY,\n",
    "    index_name=\"marketplace_index\",\n",
    "    embedding=bedrock_embedding,\n",
    ")"
   ]
  },
  {
   "cell_type": "code",
   "execution_count": 5,
   "id": "e0499b94",
   "metadata": {},
   "outputs": [],
   "source": [
    "import tiktoken\n",
    "url = \"https://raw.githubusercontent.com/elastic/elasticsearch-labs/main/example-apps/chatbot-rag-app/data/data.json\"\n",
    "\n",
    "response = urlopen(url)\n",
    "\n",
    "workplace_docs = json.loads(response.read())\n",
    "\n",
    "from langchain.text_splitter import RecursiveCharacterTextSplitter\n",
    "\n",
    "metadata = []\n",
    "content = []\n",
    "\n",
    "for doc in workplace_docs:\n",
    "    content.append(doc[\"content\"])\n",
    "    metadata.append(\n",
    "        {\n",
    "            \"name\": doc[\"name\"],\n",
    "            \"summary\": doc[\"summary\"],\n",
    "            \"rolePermissions\": doc[\"rolePermissions\"],\n",
    "        }\n",
    "    )"
   ]
  },
  {
   "cell_type": "code",
   "execution_count": 6,
   "id": "14aad86d",
   "metadata": {},
   "outputs": [],
   "source": [
    "text_splitter = RecursiveCharacterTextSplitter.from_tiktoken_encoder(\n",
    "    chunk_size=512, chunk_overlap=256\n",
    ")\n",
    "docs = text_splitter.create_documents(content, metadatas=metadata)\n",
    "#vector_store.add_documents(docs)"
   ]
  },
  {
   "cell_type": "code",
   "execution_count": 7,
   "id": "31fc84f1",
   "metadata": {},
   "outputs": [
    {
     "ename": "TypeError",
     "evalue": "object of type 'NoneType' has no len()",
     "output_type": "error",
     "traceback": [
      "\u001b[31m---------------------------------------------------------------------------\u001b[39m",
      "\u001b[31mTypeError\u001b[39m                                 Traceback (most recent call last)",
      "\u001b[36mCell\u001b[39m\u001b[36m \u001b[39m\u001b[32mIn[7]\u001b[39m\u001b[32m, line 1\u001b[39m\n\u001b[32m----> \u001b[39m\u001b[32m1\u001b[39m documents = \u001b[43mvector_store\u001b[49m\u001b[43m.\u001b[49m\u001b[43mfrom_documents\u001b[49m\u001b[43m(\u001b[49m\n\u001b[32m      2\u001b[39m \u001b[43m    \u001b[49m\u001b[43mdocs\u001b[49m\u001b[43m,\u001b[49m\n\u001b[32m      3\u001b[39m \u001b[43m    \u001b[49m\u001b[43mes_url\u001b[49m\u001b[43m=\u001b[49m\u001b[43mELASTIC_CLOUD_ENDPOINT\u001b[49m\u001b[43m,\u001b[49m\n\u001b[32m      4\u001b[39m \u001b[43m    \u001b[49m\u001b[43mes_api_key\u001b[49m\u001b[43m=\u001b[49m\u001b[43mELASTIC_API_KEY\u001b[49m\u001b[43m,\u001b[49m\n\u001b[32m      5\u001b[39m \u001b[43m    \u001b[49m\u001b[43mindex_name\u001b[49m\u001b[43m=\u001b[49m\u001b[33;43m\"\u001b[39;49m\u001b[33;43mmarketplace_index\u001b[39;49m\u001b[33;43m\"\u001b[39;49m\u001b[43m,\u001b[49m\n\u001b[32m      6\u001b[39m \u001b[43m    \u001b[49m\u001b[43membedding\u001b[49m\u001b[43m=\u001b[49m\u001b[43mbedrock_embedding\u001b[49m\u001b[43m,\u001b[49m\n\u001b[32m      7\u001b[39m \u001b[43m)\u001b[49m\n",
      "\u001b[36mFile \u001b[39m\u001b[32m~/Code/elastic-rag/venv/lib/python3.12/site-packages/langchain_elasticsearch/_sync/vectorstores.py:785\u001b[39m, in \u001b[36mElasticsearchStore.from_documents\u001b[39m\u001b[34m(cls, documents, embedding, bulk_kwargs, **kwargs)\u001b[39m\n\u001b[32m    782\u001b[39m elasticsearchStore = \u001b[38;5;28mcls\u001b[39m(embedding=embedding, **kwargs)\n\u001b[32m    784\u001b[39m \u001b[38;5;66;03m# Encode the provided texts and add them to the newly created index.\u001b[39;00m\n\u001b[32m--> \u001b[39m\u001b[32m785\u001b[39m \u001b[43melasticsearchStore\u001b[49m\u001b[43m.\u001b[49m\u001b[43madd_documents\u001b[49m\u001b[43m(\u001b[49m\u001b[43mdocuments\u001b[49m\u001b[43m,\u001b[49m\u001b[43m \u001b[49m\u001b[43mbulk_kwargs\u001b[49m\u001b[43m=\u001b[49m\u001b[43mbulk_kwargs\u001b[49m\u001b[43m)\u001b[49m\n\u001b[32m    787\u001b[39m \u001b[38;5;28;01mreturn\u001b[39;00m elasticsearchStore\n",
      "\u001b[36mFile \u001b[39m\u001b[32m~/Code/elastic-rag/venv/lib/python3.12/site-packages/langchain_core/vectorstores/base.py:279\u001b[39m, in \u001b[36mVectorStore.add_documents\u001b[39m\u001b[34m(self, documents, **kwargs)\u001b[39m\n\u001b[32m    277\u001b[39m     texts = [doc.page_content \u001b[38;5;28;01mfor\u001b[39;00m doc \u001b[38;5;129;01min\u001b[39;00m documents]\n\u001b[32m    278\u001b[39m     metadatas = [doc.metadata \u001b[38;5;28;01mfor\u001b[39;00m doc \u001b[38;5;129;01min\u001b[39;00m documents]\n\u001b[32m--> \u001b[39m\u001b[32m279\u001b[39m     \u001b[38;5;28;01mreturn\u001b[39;00m \u001b[38;5;28;43mself\u001b[39;49m\u001b[43m.\u001b[49m\u001b[43madd_texts\u001b[49m\u001b[43m(\u001b[49m\u001b[43mtexts\u001b[49m\u001b[43m,\u001b[49m\u001b[43m \u001b[49m\u001b[43mmetadatas\u001b[49m\u001b[43m,\u001b[49m\u001b[43m \u001b[49m\u001b[43m*\u001b[49m\u001b[43m*\u001b[49m\u001b[43mkwargs\u001b[49m\u001b[43m)\u001b[49m\n\u001b[32m    280\u001b[39m msg = (\n\u001b[32m    281\u001b[39m     \u001b[33mf\u001b[39m\u001b[33m\"\u001b[39m\u001b[33m`add_documents` and `add_texts` has not been implemented \u001b[39m\u001b[33m\"\u001b[39m\n\u001b[32m    282\u001b[39m     \u001b[33mf\u001b[39m\u001b[33m\"\u001b[39m\u001b[33mfor \u001b[39m\u001b[38;5;132;01m{\u001b[39;00m\u001b[38;5;28mself\u001b[39m.\u001b[34m__class__\u001b[39m.\u001b[34m__name__\u001b[39m\u001b[38;5;132;01m}\u001b[39;00m\u001b[33m \u001b[39m\u001b[33m\"\u001b[39m\n\u001b[32m    283\u001b[39m )\n\u001b[32m    284\u001b[39m \u001b[38;5;28;01mraise\u001b[39;00m \u001b[38;5;167;01mNotImplementedError\u001b[39;00m(msg)\n",
      "\u001b[36mFile \u001b[39m\u001b[32m~/Code/elastic-rag/venv/lib/python3.12/site-packages/langchain_elasticsearch/_sync/vectorstores.py:625\u001b[39m, in \u001b[36mElasticsearchStore.add_texts\u001b[39m\u001b[34m(self, texts, metadatas, ids, refresh_indices, create_index_if_not_exists, bulk_kwargs, **kwargs)\u001b[39m\n\u001b[32m    598\u001b[39m \u001b[38;5;28;01mdef\u001b[39;00m\u001b[38;5;250m \u001b[39m\u001b[34madd_texts\u001b[39m(\n\u001b[32m    599\u001b[39m     \u001b[38;5;28mself\u001b[39m,\n\u001b[32m    600\u001b[39m     texts: Iterable[\u001b[38;5;28mstr\u001b[39m],\n\u001b[32m   (...)\u001b[39m\u001b[32m    606\u001b[39m     **kwargs: Any,\n\u001b[32m    607\u001b[39m ) -> List[\u001b[38;5;28mstr\u001b[39m]:\n\u001b[32m    608\u001b[39m \u001b[38;5;250m    \u001b[39m\u001b[33;03m\"\"\"Run more texts through the embeddings and add to the store.\u001b[39;00m\n\u001b[32m    609\u001b[39m \n\u001b[32m    610\u001b[39m \u001b[33;03m    Args:\u001b[39;00m\n\u001b[32m   (...)\u001b[39m\u001b[32m    623\u001b[39m \u001b[33;03m        List of ids from adding the texts into the store.\u001b[39;00m\n\u001b[32m    624\u001b[39m \u001b[33;03m    \"\"\"\u001b[39;00m\n\u001b[32m--> \u001b[39m\u001b[32m625\u001b[39m     \u001b[38;5;28;01mreturn\u001b[39;00m \u001b[38;5;28;43mself\u001b[39;49m\u001b[43m.\u001b[49m\u001b[43m_store\u001b[49m\u001b[43m.\u001b[49m\u001b[43madd_texts\u001b[49m\u001b[43m(\u001b[49m\n\u001b[32m    626\u001b[39m \u001b[43m        \u001b[49m\u001b[43mtexts\u001b[49m\u001b[43m=\u001b[49m\u001b[38;5;28;43mlist\u001b[39;49m\u001b[43m(\u001b[49m\u001b[43mtexts\u001b[49m\u001b[43m)\u001b[49m\u001b[43m,\u001b[49m\n\u001b[32m    627\u001b[39m \u001b[43m        \u001b[49m\u001b[43mmetadatas\u001b[49m\u001b[43m=\u001b[49m\u001b[43mmetadatas\u001b[49m\u001b[43m,\u001b[49m\n\u001b[32m    628\u001b[39m \u001b[43m        \u001b[49m\u001b[43mids\u001b[49m\u001b[43m=\u001b[49m\u001b[43mids\u001b[49m\u001b[43m,\u001b[49m\n\u001b[32m    629\u001b[39m \u001b[43m        \u001b[49m\u001b[43mrefresh_indices\u001b[49m\u001b[43m=\u001b[49m\u001b[43mrefresh_indices\u001b[49m\u001b[43m,\u001b[49m\n\u001b[32m    630\u001b[39m \u001b[43m        \u001b[49m\u001b[43mcreate_index_if_not_exists\u001b[49m\u001b[43m=\u001b[49m\u001b[43mcreate_index_if_not_exists\u001b[49m\u001b[43m,\u001b[49m\n\u001b[32m    631\u001b[39m \u001b[43m        \u001b[49m\u001b[43mbulk_kwargs\u001b[49m\u001b[43m=\u001b[49m\u001b[43mbulk_kwargs\u001b[49m\u001b[43m,\u001b[49m\n\u001b[32m    632\u001b[39m \u001b[43m    \u001b[49m\u001b[43m)\u001b[49m\n",
      "\u001b[36mFile \u001b[39m\u001b[32m~/Code/elastic-rag/venv/lib/python3.12/site-packages/elasticsearch/helpers/vectorstore/_sync/vectorstore.py:138\u001b[39m, in \u001b[36mVectorStore.add_texts\u001b[39m\u001b[34m(self, texts, metadatas, vectors, ids, refresh_indices, create_index_if_not_exists, bulk_kwargs)\u001b[39m\n\u001b[32m    135\u001b[39m requests = []\n\u001b[32m    137\u001b[39m \u001b[38;5;28;01mif\u001b[39;00m create_index_if_not_exists:\n\u001b[32m--> \u001b[39m\u001b[32m138\u001b[39m     \u001b[38;5;28;43mself\u001b[39;49m\u001b[43m.\u001b[49m\u001b[43m_create_index_if_not_exists\u001b[49m\u001b[43m(\u001b[49m\u001b[43m)\u001b[49m\n\u001b[32m    140\u001b[39m \u001b[38;5;28;01mif\u001b[39;00m \u001b[38;5;28mself\u001b[39m.embedding_service \u001b[38;5;129;01mand\u001b[39;00m \u001b[38;5;129;01mnot\u001b[39;00m vectors:\n\u001b[32m    141\u001b[39m     vectors = \u001b[38;5;28mself\u001b[39m.embedding_service.embed_documents(texts)\n",
      "\u001b[36mFile \u001b[39m\u001b[32m~/Code/elastic-rag/venv/lib/python3.12/site-packages/elasticsearch/helpers/vectorstore/_sync/vectorstore.py:309\u001b[39m, in \u001b[36mVectorStore._create_index_if_not_exists\u001b[39m\u001b[34m(self)\u001b[39m\n\u001b[32m    307\u001b[39m     \u001b[38;5;28;01mif\u001b[39;00m \u001b[38;5;129;01mnot\u001b[39;00m \u001b[38;5;28mself\u001b[39m.num_dimensions \u001b[38;5;129;01mand\u001b[39;00m \u001b[38;5;28mself\u001b[39m.embedding_service:\n\u001b[32m    308\u001b[39m         vector = \u001b[38;5;28mself\u001b[39m.embedding_service.embed_query(\u001b[33m\"\u001b[39m\u001b[33mget num dimensions\u001b[39m\u001b[33m\"\u001b[39m)\n\u001b[32m--> \u001b[39m\u001b[32m309\u001b[39m         \u001b[38;5;28mself\u001b[39m.num_dimensions = \u001b[38;5;28;43mlen\u001b[39;49m\u001b[43m(\u001b[49m\u001b[43mvector\u001b[49m\u001b[43m)\u001b[49m\n\u001b[32m    311\u001b[39m mappings, settings = \u001b[38;5;28mself\u001b[39m.retrieval_strategy.es_mappings_settings(\n\u001b[32m    312\u001b[39m     text_field=\u001b[38;5;28mself\u001b[39m.text_field,\n\u001b[32m    313\u001b[39m     vector_field=\u001b[38;5;28mself\u001b[39m.vector_field,\n\u001b[32m    314\u001b[39m     num_dimensions=\u001b[38;5;28mself\u001b[39m.num_dimensions,\n\u001b[32m    315\u001b[39m )\n\u001b[32m    317\u001b[39m \u001b[38;5;28;01mif\u001b[39;00m \u001b[38;5;28mself\u001b[39m.custom_index_settings:\n",
      "\u001b[31mTypeError\u001b[39m: object of type 'NoneType' has no len()"
     ]
    }
   ],
   "source": [
    "documents = vector_store.from_documents(\n",
    "    docs,\n",
    "    es_url=ELASTIC_CLOUD_ENDPOINT,\n",
    "    es_api_key=ELASTIC_API_KEY,\n",
    "    index_name=\"marketplace_index\",\n",
    "    embedding=bedrock_embedding,\n",
    ")"
   ]
  }
 ],
 "metadata": {
  "kernelspec": {
   "display_name": "venv",
   "language": "python",
   "name": "python3"
  },
  "language_info": {
   "codemirror_mode": {
    "name": "ipython",
    "version": 3
   },
   "file_extension": ".py",
   "mimetype": "text/x-python",
   "name": "python",
   "nbconvert_exporter": "python",
   "pygments_lexer": "ipython3",
   "version": "3.12.11"
  }
 },
 "nbformat": 4,
 "nbformat_minor": 5
}
